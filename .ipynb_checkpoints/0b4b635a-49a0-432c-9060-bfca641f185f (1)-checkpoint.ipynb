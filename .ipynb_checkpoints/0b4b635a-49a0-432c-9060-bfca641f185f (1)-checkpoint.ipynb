{
 "cells": [
  {
   "cell_type": "markdown",
   "id": "GEqQaHzsZ_bA",
   "metadata": {
    "id": "GEqQaHzsZ_bA"
   },
   "source": [
    "## Предсказание стоимости жилья\n",
    "\n",
    "В рамках данного проекта необходимо обучить модель **линейной регрессии** на данных о **жилье в Калифорнии в 1990 году**. Для этого мне был предоставлен датасет, который содержит следующие данные:\n",
    "\n",
    "- longitude — широта;\n",
    "- latitude — долгота;\n",
    "- housing_median_age — медианный возраст жителей жилого массива;\n",
    "- total_rooms — общее количество комнат в домах жилого массива;\n",
    "- total_bedrooms — общее количество спален в домах жилого массива;\n",
    "- population — количество человек, которые проживают в жилом массиве;\n",
    "- households — количество домовладений в жилом массиве;\n",
    "- median_income — медианный доход жителей жилого массива;\n",
    "- median_house_value — медианная стоимость дома в жилом массиве;\n",
    "- ocean_proximity — близость к океану.\n",
    "\n",
    "**Задача**: На основе данных нужно предсказать медианную стоимость дома в жилом массиве — **median_house_value**. Обучить модель и сделать предсказания на тестовой выборке. **Для оценки качества модели** будем использовать метрики **RMSE**, **MAE** и **R2**."
   ]
  },
  {
   "cell_type": "markdown",
   "id": "53871372",
   "metadata": {
    "id": "53871372"
   },
   "source": [
    "# Подготовка данных"
   ]
  },
  {
   "cell_type": "markdown",
   "id": "a01bf8a4",
   "metadata": {},
   "source": [
    "### Знакомство с данными"
   ]
  },
  {
   "cell_type": "code",
   "execution_count": 2,
   "id": "93434a13",
   "metadata": {},
   "outputs": [],
   "source": [
    "# Импортируем необходимые библиотеки\n",
    "import pandas as pd\n",
    "import numpy as np\n",
    "\n",
    "import pyspark\n",
    "from pyspark.sql import SparkSession\n",
    "from pyspark.sql.types import *\n",
    "import pyspark.sql.functions as F\n",
    "\n",
    "from pyspark.ml.feature import StringIndexer, VectorAssembler, StandardScaler\n",
    "from pyspark.ml.regression import LinearRegression\n",
    "from pyspark.ml.evaluation import BinaryClassificationEvaluator, MulticlassClassificationEvaluator, RegressionEvaluator\n",
    "\n",
    "pyspark_version = pyspark.__version__\n",
    "if int(pyspark_version[:1]) == 3:\n",
    "    from pyspark.ml.feature import OneHotEncoder    \n",
    "elif int(pyspark_version[:1]) == 2:\n",
    "    from pyspark.ml.feature import OneHotEncodeEstimator"
   ]
  },
  {
   "cell_type": "code",
   "execution_count": 3,
   "id": "df92e3ec",
   "metadata": {
    "id": "df92e3ec"
   },
   "outputs": [
    {
     "name": "stderr",
     "output_type": "stream",
     "text": [
      "                                                                                \r"
     ]
    },
    {
     "name": "stdout",
     "output_type": "stream",
     "text": [
      "+---------+--------+------------------+-----------+--------------+----------+----------+-------------+------------------+---------------+\n",
      "|longitude|latitude|housing_median_age|total_rooms|total_bedrooms|population|households|median_income|median_house_value|ocean_proximity|\n",
      "+---------+--------+------------------+-----------+--------------+----------+----------+-------------+------------------+---------------+\n",
      "|  -122.23|   37.88|              41.0|      880.0|         129.0|     322.0|     126.0|       8.3252|          452600.0|       NEAR BAY|\n",
      "|  -122.22|   37.86|              21.0|     7099.0|        1106.0|    2401.0|    1138.0|       8.3014|          358500.0|       NEAR BAY|\n",
      "|  -122.24|   37.85|              52.0|     1467.0|         190.0|     496.0|     177.0|       7.2574|          352100.0|       NEAR BAY|\n",
      "+---------+--------+------------------+-----------+--------------+----------+----------+-------------+------------------+---------------+\n",
      "only showing top 3 rows\n",
      "\n",
      "+-------------------+\n",
      "| Всего строк 20640 |\n",
      "+-------------------+\n"
     ]
    }
   ],
   "source": [
    "# Инициализируем Spark сессию\n",
    "\n",
    "spark = SparkSession.builder \\\n",
    "                    .master('local') \\\n",
    "                    .appName('California real estate 1990') \\\n",
    "                    .getOrCreate()\n",
    "\n",
    "# Распакуем данные\n",
    "data = spark.read.csv('/datasets/housing.csv', inferSchema = True, header=True)\n",
    "\n",
    "# Выведем данные DF\n",
    "data.show(3)\n",
    "print('+-------------------+')\n",
    "print(f'| Всего строк {data.count()} |')\n",
    "print('+-------------------+')"
   ]
  },
  {
   "cell_type": "code",
   "execution_count": 4,
   "id": "3a2a5db0",
   "metadata": {
    "scrolled": false
   },
   "outputs": [
    {
     "name": "stderr",
     "output_type": "stream",
     "text": [
      "                                                                                \r"
     ]
    },
    {
     "data": {
      "text/html": [
       "<div>\n",
       "<style scoped>\n",
       "    .dataframe tbody tr th:only-of-type {\n",
       "        vertical-align: middle;\n",
       "    }\n",
       "\n",
       "    .dataframe tbody tr th {\n",
       "        vertical-align: top;\n",
       "    }\n",
       "\n",
       "    .dataframe thead th {\n",
       "        text-align: right;\n",
       "    }\n",
       "</style>\n",
       "<table border=\"1\" class=\"dataframe\">\n",
       "  <thead>\n",
       "    <tr style=\"text-align: right;\">\n",
       "      <th></th>\n",
       "      <th>summary</th>\n",
       "      <th>longitude</th>\n",
       "      <th>latitude</th>\n",
       "      <th>housing_median_age</th>\n",
       "      <th>total_rooms</th>\n",
       "      <th>total_bedrooms</th>\n",
       "      <th>population</th>\n",
       "      <th>households</th>\n",
       "      <th>median_income</th>\n",
       "      <th>median_house_value</th>\n",
       "      <th>ocean_proximity</th>\n",
       "    </tr>\n",
       "  </thead>\n",
       "  <tbody>\n",
       "    <tr>\n",
       "      <th>0</th>\n",
       "      <td>count</td>\n",
       "      <td>20640</td>\n",
       "      <td>20640</td>\n",
       "      <td>20640</td>\n",
       "      <td>20640</td>\n",
       "      <td>20433</td>\n",
       "      <td>20640</td>\n",
       "      <td>20640</td>\n",
       "      <td>20640</td>\n",
       "      <td>20640</td>\n",
       "      <td>20640</td>\n",
       "    </tr>\n",
       "    <tr>\n",
       "      <th>1</th>\n",
       "      <td>mean</td>\n",
       "      <td>-119.56970445736148</td>\n",
       "      <td>35.6318614341087</td>\n",
       "      <td>28.639486434108527</td>\n",
       "      <td>2635.7630813953488</td>\n",
       "      <td>537.8705525375618</td>\n",
       "      <td>1425.4767441860465</td>\n",
       "      <td>499.5396802325581</td>\n",
       "      <td>3.8706710029070246</td>\n",
       "      <td>206855.81690891474</td>\n",
       "      <td>None</td>\n",
       "    </tr>\n",
       "    <tr>\n",
       "      <th>2</th>\n",
       "      <td>stddev</td>\n",
       "      <td>2.003531723502584</td>\n",
       "      <td>2.135952397457101</td>\n",
       "      <td>12.58555761211163</td>\n",
       "      <td>2181.6152515827944</td>\n",
       "      <td>421.38507007403115</td>\n",
       "      <td>1132.46212176534</td>\n",
       "      <td>382.3297528316098</td>\n",
       "      <td>1.899821717945263</td>\n",
       "      <td>115395.61587441359</td>\n",
       "      <td>None</td>\n",
       "    </tr>\n",
       "    <tr>\n",
       "      <th>3</th>\n",
       "      <td>min</td>\n",
       "      <td>-124.35</td>\n",
       "      <td>32.54</td>\n",
       "      <td>1.0</td>\n",
       "      <td>2.0</td>\n",
       "      <td>1.0</td>\n",
       "      <td>3.0</td>\n",
       "      <td>1.0</td>\n",
       "      <td>0.4999</td>\n",
       "      <td>14999.0</td>\n",
       "      <td>&lt;1H OCEAN</td>\n",
       "    </tr>\n",
       "    <tr>\n",
       "      <th>4</th>\n",
       "      <td>max</td>\n",
       "      <td>-114.31</td>\n",
       "      <td>41.95</td>\n",
       "      <td>52.0</td>\n",
       "      <td>39320.0</td>\n",
       "      <td>6445.0</td>\n",
       "      <td>35682.0</td>\n",
       "      <td>6082.0</td>\n",
       "      <td>15.0001</td>\n",
       "      <td>500001.0</td>\n",
       "      <td>NEAR OCEAN</td>\n",
       "    </tr>\n",
       "  </tbody>\n",
       "</table>\n",
       "</div>"
      ],
      "text/plain": [
       "  summary            longitude           latitude  housing_median_age  \\\n",
       "0   count                20640              20640               20640   \n",
       "1    mean  -119.56970445736148   35.6318614341087  28.639486434108527   \n",
       "2  stddev    2.003531723502584  2.135952397457101   12.58555761211163   \n",
       "3     min              -124.35              32.54                 1.0   \n",
       "4     max              -114.31              41.95                52.0   \n",
       "\n",
       "          total_rooms      total_bedrooms          population  \\\n",
       "0               20640               20433               20640   \n",
       "1  2635.7630813953488   537.8705525375618  1425.4767441860465   \n",
       "2  2181.6152515827944  421.38507007403115    1132.46212176534   \n",
       "3                 2.0                 1.0                 3.0   \n",
       "4             39320.0              6445.0             35682.0   \n",
       "\n",
       "          households       median_income  median_house_value ocean_proximity  \n",
       "0              20640               20640               20640           20640  \n",
       "1  499.5396802325581  3.8706710029070246  206855.81690891474            None  \n",
       "2  382.3297528316098   1.899821717945263  115395.61587441359            None  \n",
       "3                1.0              0.4999             14999.0       <1H OCEAN  \n",
       "4             6082.0             15.0001            500001.0      NEAR OCEAN  "
      ]
     },
     "metadata": {},
     "output_type": "display_data"
    },
    {
     "name": "stdout",
     "output_type": "stream",
     "text": [
      "----------------------------\n"
     ]
    },
    {
     "data": {
      "text/html": [
       "<div>\n",
       "<style scoped>\n",
       "    .dataframe tbody tr th:only-of-type {\n",
       "        vertical-align: middle;\n",
       "    }\n",
       "\n",
       "    .dataframe tbody tr th {\n",
       "        vertical-align: top;\n",
       "    }\n",
       "\n",
       "    .dataframe thead th {\n",
       "        text-align: right;\n",
       "    }\n",
       "</style>\n",
       "<table border=\"1\" class=\"dataframe\">\n",
       "  <thead>\n",
       "    <tr style=\"text-align: right;\">\n",
       "      <th></th>\n",
       "      <th>column</th>\n",
       "      <th>type</th>\n",
       "    </tr>\n",
       "  </thead>\n",
       "  <tbody>\n",
       "    <tr>\n",
       "      <th>0</th>\n",
       "      <td>longitude</td>\n",
       "      <td>double</td>\n",
       "    </tr>\n",
       "    <tr>\n",
       "      <th>1</th>\n",
       "      <td>latitude</td>\n",
       "      <td>double</td>\n",
       "    </tr>\n",
       "    <tr>\n",
       "      <th>2</th>\n",
       "      <td>housing_median_age</td>\n",
       "      <td>double</td>\n",
       "    </tr>\n",
       "    <tr>\n",
       "      <th>3</th>\n",
       "      <td>total_rooms</td>\n",
       "      <td>double</td>\n",
       "    </tr>\n",
       "    <tr>\n",
       "      <th>4</th>\n",
       "      <td>total_bedrooms</td>\n",
       "      <td>double</td>\n",
       "    </tr>\n",
       "    <tr>\n",
       "      <th>5</th>\n",
       "      <td>population</td>\n",
       "      <td>double</td>\n",
       "    </tr>\n",
       "    <tr>\n",
       "      <th>6</th>\n",
       "      <td>households</td>\n",
       "      <td>double</td>\n",
       "    </tr>\n",
       "    <tr>\n",
       "      <th>7</th>\n",
       "      <td>median_income</td>\n",
       "      <td>double</td>\n",
       "    </tr>\n",
       "    <tr>\n",
       "      <th>8</th>\n",
       "      <td>median_house_value</td>\n",
       "      <td>double</td>\n",
       "    </tr>\n",
       "    <tr>\n",
       "      <th>9</th>\n",
       "      <td>ocean_proximity</td>\n",
       "      <td>string</td>\n",
       "    </tr>\n",
       "  </tbody>\n",
       "</table>\n",
       "</div>"
      ],
      "text/plain": [
       "               column    type\n",
       "0           longitude  double\n",
       "1            latitude  double\n",
       "2  housing_median_age  double\n",
       "3         total_rooms  double\n",
       "4      total_bedrooms  double\n",
       "5          population  double\n",
       "6          households  double\n",
       "7       median_income  double\n",
       "8  median_house_value  double\n",
       "9     ocean_proximity  string"
      ]
     },
     "execution_count": 4,
     "metadata": {},
     "output_type": "execute_result"
    }
   ],
   "source": [
    "# Выведем данные колонок, а также их описание\n",
    "display(data.describe().toPandas())\n",
    "print('----------------------------')\n",
    "pd.DataFrame(data.dtypes, columns=['column', 'type']).head(10)"
   ]
  },
  {
   "cell_type": "markdown",
   "id": "42698fc7",
   "metadata": {},
   "source": [
    "#### Вывод \"Знакомство с данными\""
   ]
  },
  {
   "cell_type": "markdown",
   "id": "527ba7a0",
   "metadata": {},
   "source": [
    "Нам достался небольшой DF на 20*К наблюдений и 10 столбцами, 1 из которых является нашим таргетом - median_house_value. Однако, если говорить про типы данных - необходимо double перевести в float, дабы сэкономить нашу память."
   ]
  },
  {
   "cell_type": "markdown",
   "id": "615212b3",
   "metadata": {},
   "source": [
    "### Предобработка данных"
   ]
  },
  {
   "cell_type": "code",
   "execution_count": 5,
   "id": "799d8723",
   "metadata": {},
   "outputs": [
    {
     "data": {
      "text/html": [
       "<div>\n",
       "<style scoped>\n",
       "    .dataframe tbody tr th:only-of-type {\n",
       "        vertical-align: middle;\n",
       "    }\n",
       "\n",
       "    .dataframe tbody tr th {\n",
       "        vertical-align: top;\n",
       "    }\n",
       "\n",
       "    .dataframe thead th {\n",
       "        text-align: right;\n",
       "    }\n",
       "</style>\n",
       "<table border=\"1\" class=\"dataframe\">\n",
       "  <thead>\n",
       "    <tr style=\"text-align: right;\">\n",
       "      <th></th>\n",
       "      <th>column</th>\n",
       "      <th>type</th>\n",
       "    </tr>\n",
       "  </thead>\n",
       "  <tbody>\n",
       "    <tr>\n",
       "      <th>0</th>\n",
       "      <td>longitude</td>\n",
       "      <td>float</td>\n",
       "    </tr>\n",
       "    <tr>\n",
       "      <th>1</th>\n",
       "      <td>latitude</td>\n",
       "      <td>float</td>\n",
       "    </tr>\n",
       "    <tr>\n",
       "      <th>2</th>\n",
       "      <td>housing_median_age</td>\n",
       "      <td>float</td>\n",
       "    </tr>\n",
       "    <tr>\n",
       "      <th>3</th>\n",
       "      <td>total_rooms</td>\n",
       "      <td>float</td>\n",
       "    </tr>\n",
       "    <tr>\n",
       "      <th>4</th>\n",
       "      <td>total_bedrooms</td>\n",
       "      <td>float</td>\n",
       "    </tr>\n",
       "    <tr>\n",
       "      <th>5</th>\n",
       "      <td>population</td>\n",
       "      <td>float</td>\n",
       "    </tr>\n",
       "    <tr>\n",
       "      <th>6</th>\n",
       "      <td>households</td>\n",
       "      <td>float</td>\n",
       "    </tr>\n",
       "    <tr>\n",
       "      <th>7</th>\n",
       "      <td>median_income</td>\n",
       "      <td>float</td>\n",
       "    </tr>\n",
       "    <tr>\n",
       "      <th>8</th>\n",
       "      <td>median_house_value</td>\n",
       "      <td>float</td>\n",
       "    </tr>\n",
       "    <tr>\n",
       "      <th>9</th>\n",
       "      <td>ocean_proximity</td>\n",
       "      <td>string</td>\n",
       "    </tr>\n",
       "  </tbody>\n",
       "</table>\n",
       "</div>"
      ],
      "text/plain": [
       "               column    type\n",
       "0           longitude   float\n",
       "1            latitude   float\n",
       "2  housing_median_age   float\n",
       "3         total_rooms   float\n",
       "4      total_bedrooms   float\n",
       "5          population   float\n",
       "6          households   float\n",
       "7       median_income   float\n",
       "8  median_house_value   float\n",
       "9     ocean_proximity  string"
      ]
     },
     "execution_count": 5,
     "metadata": {},
     "output_type": "execute_result"
    }
   ],
   "source": [
    "# Изменим тип данных double на float\n",
    "\n",
    "dtype_double = [col for col in data.columns]\n",
    "del dtype_double[-1]\n",
    "\n",
    "for col in dtype_double:\n",
    "    data = data.withColumn(col, F.col(col).cast(FloatType()))\n",
    "    \n",
    "pd.DataFrame(data.dtypes, columns=['column', 'type']).head(10)"
   ]
  },
  {
   "cell_type": "code",
   "execution_count": 6,
   "id": "b91d2a22",
   "metadata": {},
   "outputs": [
    {
     "name": "stdout",
     "output_type": "stream",
     "text": [
      "longitude 0 0.0\n",
      "latitude 0 0.0\n",
      "housing_median_age 0 0.0\n",
      "total_rooms 0 0.0\n",
      "total_bedrooms 207 0.01002906976744186\n",
      "population 0 0.0\n",
      "households 0 0.0\n",
      "median_income 0 0.0\n",
      "median_house_value 0 0.0\n",
      "ocean_proximity 0 0.0\n"
     ]
    }
   ],
   "source": [
    "# Поработаем с пропусками\n",
    "\n",
    "for col in data.columns:\n",
    "    print(col, data.where(F.col(col).isNull() | F.isnan(col)).count(), data.where(F.col(col).isNull() | F.isnan(col)).count()/data.count())"
   ]
  },
  {
   "cell_type": "code",
   "execution_count": 7,
   "id": "72993277",
   "metadata": {},
   "outputs": [
    {
     "name": "stdout",
     "output_type": "stream",
     "text": [
      "longitude 0 0.0\n",
      "latitude 0 0.0\n",
      "housing_median_age 0 0.0\n",
      "total_rooms 0 0.0\n",
      "total_bedrooms 0 0.0\n",
      "population 0 0.0\n",
      "households 0 0.0\n",
      "median_income 0 0.0\n",
      "median_house_value 0 0.0\n",
      "ocean_proximity 0 0.0\n"
     ]
    }
   ],
   "source": [
    "# Удалим 1% nan значений\n",
    "data = data.na.fill(537)\n",
    "\n",
    "# Проверим результат\n",
    "for col in data.columns:\n",
    "    print(col, data.where(F.col(col).isNull() | F.isnan(col)).count(), data.where(F.col(col).isNull() | F.isnan(col)).count()/data.count())"
   ]
  },
  {
   "cell_type": "markdown",
   "id": "c24bcec6",
   "metadata": {},
   "source": [
    "#### Вывод \"Предобработка\""
   ]
  },
  {
   "cell_type": "markdown",
   "id": "1b40bed1",
   "metadata": {},
   "source": [
    "В результате предобработки данных были обнаружены nan значения в столбцах данных, однако они составляли всего 1%, поэтому мы их смело удалили. Также тип данных double был изменён на float, чтобы оптимизировать память."
   ]
  },
  {
   "cell_type": "markdown",
   "id": "9f0a82f3",
   "metadata": {
    "id": "9f0a82f3"
   },
   "source": [
    "# Обучение моделей"
   ]
  },
  {
   "cell_type": "code",
   "execution_count": 8,
   "id": "bddb08c4",
   "metadata": {
    "id": "bddb08c4"
   },
   "outputs": [
    {
     "name": "stderr",
     "output_type": "stream",
     "text": [
      "                                                                                \r"
     ]
    },
    {
     "name": "stdout",
     "output_type": "stream",
     "text": [
      "+---------------+-------------------+\n",
      "|ocean_proximity|ocean_proximity_idx|\n",
      "+---------------+-------------------+\n",
      "|       NEAR BAY|                3.0|\n",
      "|       NEAR BAY|                3.0|\n",
      "|       NEAR BAY|                3.0|\n",
      "+---------------+-------------------+\n",
      "only showing top 3 rows\n",
      "\n"
     ]
    }
   ],
   "source": [
    "# Преобразуем колонку с категориальными значениями техникой One hot encoding\n",
    "\n",
    "#Вначале применим StringIndexer, чтобы перевести категориальные в численные\n",
    "\n",
    "indexer = StringIndexer(inputCol='ocean_proximity', \n",
    "                        outputCol='ocean_proximity_idx') \n",
    "data = indexer.fit(data).transform(data)\n",
    "\n",
    "data.select(['ocean_proximity', 'ocean_proximity_idx']).show(3) "
   ]
  },
  {
   "cell_type": "code",
   "execution_count": 9,
   "id": "6c8d7def",
   "metadata": {},
   "outputs": [
    {
     "name": "stdout",
     "output_type": "stream",
     "text": [
      "+---------------+-------------------+-------------------+\n",
      "|ocean_proximity|ocean_proximity_idx|ocean_proximity_ohe|\n",
      "+---------------+-------------------+-------------------+\n",
      "|       NEAR BAY|                3.0|      (4,[3],[1.0])|\n",
      "|       NEAR BAY|                3.0|      (4,[3],[1.0])|\n",
      "|       NEAR BAY|                3.0|      (4,[3],[1.0])|\n",
      "+---------------+-------------------+-------------------+\n",
      "only showing top 3 rows\n",
      "\n"
     ]
    }
   ],
   "source": [
    "# Затем разобьём численные на колонки методом OHE\n",
    "\n",
    "encoder = OneHotEncoder(inputCol='ocean_proximity_idx',\n",
    "                        outputCol='ocean_proximity_ohe')\n",
    "data = encoder.fit(data).transform(data)\n",
    "\n",
    "data.select(['ocean_proximity', 'ocean_proximity_idx', 'ocean_proximity_ohe']).show(3) "
   ]
  },
  {
   "cell_type": "code",
   "execution_count": 10,
   "id": "ec3b346b",
   "metadata": {},
   "outputs": [],
   "source": [
    "# Финальный шаг преобразований — это объединение признаков в один вектор, с которым ML-алгоритм умеет работать\n",
    "\n",
    "categorical_cols = ['ocean_proximity']\n",
    "\n",
    "categorical_assembler = \\\n",
    "        VectorAssembler(inputCols=[c+'_ohe' for c in categorical_cols],\n",
    "                        outputCol='categorical_features')\n",
    "data = categorical_assembler.transform(data) "
   ]
  },
  {
   "cell_type": "code",
   "execution_count": 11,
   "id": "1ca18be1",
   "metadata": {},
   "outputs": [
    {
     "name": "stderr",
     "output_type": "stream",
     "text": [
      "                                                                                \r"
     ]
    },
    {
     "name": "stdout",
     "output_type": "stream",
     "text": [
      "15406 5234\n"
     ]
    }
   ],
   "source": [
    "# Разделим выборку\n",
    "\n",
    "train, test = data.randomSplit([.75,.25], seed=12345)\n",
    "print(train.count(), test.count()) "
   ]
  },
  {
   "cell_type": "code",
   "execution_count": 12,
   "id": "be175879",
   "metadata": {},
   "outputs": [
    {
     "name": "stderr",
     "output_type": "stream",
     "text": [
      "                                                                                \r"
     ]
    }
   ],
   "source": [
    "# Для числовых признаков тоже нужна трансформация — шкалирование значений — чтобы сильные выбросы не смещали предсказания модели\n",
    "\n",
    "numerical_cols = ['longitude', 'latitude', 'housing_median_age', 'total_rooms', 'total_bedrooms', 'population', 'households', 'median_income']\n",
    "\n",
    "numerical_assembler = VectorAssembler(inputCols=numerical_cols, outputCol=\"numerical_features\")\n",
    "train = numerical_assembler.transform(train) \n",
    "test = numerical_assembler.transform(test)\n",
    "\n",
    "standardScaler = StandardScaler(inputCol='numerical_features', outputCol='numerical_features_scaled')\n",
    "train = standardScaler.fit(train).transform(train)\n",
    "test = standardScaler.fit(test).transform(test)"
   ]
  },
  {
   "cell_type": "code",
   "execution_count": 13,
   "id": "6f3c9cc1",
   "metadata": {},
   "outputs": [
    {
     "data": {
      "text/plain": [
       "['longitude',\n",
       " 'latitude',\n",
       " 'housing_median_age',\n",
       " 'total_rooms',\n",
       " 'total_bedrooms',\n",
       " 'population',\n",
       " 'households',\n",
       " 'median_income',\n",
       " 'median_house_value',\n",
       " 'ocean_proximity',\n",
       " 'ocean_proximity_idx',\n",
       " 'ocean_proximity_ohe',\n",
       " 'categorical_features',\n",
       " 'numerical_features',\n",
       " 'numerical_features_scaled']"
      ]
     },
     "execution_count": 13,
     "metadata": {},
     "output_type": "execute_result"
    }
   ],
   "source": [
    "train.columns"
   ]
  },
  {
   "cell_type": "code",
   "execution_count": 14,
   "id": "cf8ad8b7",
   "metadata": {},
   "outputs": [
    {
     "name": "stderr",
     "output_type": "stream",
     "text": [
      "                                                                                \r"
     ]
    },
    {
     "name": "stdout",
     "output_type": "stream",
     "text": [
      "+--------------------+-------------------------+\n",
      "|categorical_features|numerical_features_scaled|\n",
      "+--------------------+-------------------------+\n",
      "|       (4,[2],[1.0])|     [-61.982223876749...|\n",
      "|       (4,[2],[1.0])|     [-61.957303671685...|\n",
      "|       (4,[2],[1.0])|     [-61.957303671685...|\n",
      "+--------------------+-------------------------+\n",
      "only showing top 3 rows\n",
      "\n",
      "+--------------------+-------------------------+\n",
      "|categorical_features|numerical_features_scaled|\n",
      "+--------------------+-------------------------+\n",
      "|       (4,[2],[1.0])|     [-62.255949041483...|\n",
      "|       (4,[2],[1.0])|     [-62.225878367535...|\n",
      "|       (4,[2],[1.0])|     [-62.225878367535...|\n",
      "+--------------------+-------------------------+\n",
      "only showing top 3 rows\n",
      "\n"
     ]
    }
   ],
   "source": [
    "# Финальный шаг — собрать трансформированные категорийные и числовые признаки с помощью VectorAssembler\n",
    "\n",
    "all_features = ['categorical_features','numerical_features_scaled']\n",
    "\n",
    "final_assembler = VectorAssembler(inputCols=all_features, \n",
    "                                  outputCol=\"features\") \n",
    "train = final_assembler.transform(train)\n",
    "test = final_assembler.transform(test)\n",
    "\n",
    "train.select(all_features).show(3) \n",
    "test.select(all_features).show(3) "
   ]
  },
  {
   "cell_type": "code",
   "execution_count": 15,
   "id": "47707ef5",
   "metadata": {},
   "outputs": [
    {
     "name": "stderr",
     "output_type": "stream",
     "text": [
      "22/10/24 16:00:53 WARN BLAS: Failed to load implementation from: com.github.fommil.netlib.NativeSystemBLAS\n",
      "22/10/24 16:00:53 WARN BLAS: Failed to load implementation from: com.github.fommil.netlib.NativeRefBLAS\n",
      "                                                                                \r"
     ]
    }
   ],
   "source": [
    "# Обучим модель\n",
    "\n",
    "lr = LinearRegression(featuresCol = 'features',labelCol='median_house_value', maxIter=10, regParam=0.3, elasticNetParam=0.8)\n",
    "lr_model = lr.fit(train)"
   ]
  },
  {
   "cell_type": "markdown",
   "id": "757fd103",
   "metadata": {
    "id": "757fd103"
   },
   "source": [
    "# Анализ результатов"
   ]
  },
  {
   "cell_type": "code",
   "execution_count": 16,
   "id": "82384626",
   "metadata": {},
   "outputs": [
    {
     "name": "stdout",
     "output_type": "stream",
     "text": [
      "+-------------------+\n",
      "|          residuals|\n",
      "+-------------------+\n",
      "| -129829.5888681477|\n",
      "| -60489.64972118451|\n",
      "| -78724.81692099618|\n",
      "|-119658.66199386795|\n",
      "| -95825.22369057732|\n",
      "|-108033.64937744848|\n",
      "| -179768.1786751626|\n",
      "| -85635.97185885091|\n",
      "| -78991.20949681196|\n",
      "|-100608.44417862664|\n",
      "| -83495.13357291277|\n",
      "| -92372.32823971682|\n",
      "|-125838.28158681653|\n",
      "|-126506.27865370037|\n",
      "|   -97470.480198059|\n",
      "| -61822.67340289056|\n",
      "| -97594.60929040262|\n",
      "|-107428.61917272373|\n",
      "|-103218.79416175047|\n",
      "|-116024.68944024574|\n",
      "+-------------------+\n",
      "only showing top 20 rows\n",
      "\n",
      "MAE: 50397.302620\n",
      "RMSE: 69808.165558\n",
      "r2: 0.633040\n"
     ]
    }
   ],
   "source": [
    "# Train Выборка все столбцы\n",
    "trainingSummary = lr_model.summary\n",
    "\n",
    "trainingSummary.residuals.show()\n",
    "print(\"MAE: %f\" % trainingSummary.meanAbsoluteError)\n",
    "print(\"RMSE: %f\" % trainingSummary.rootMeanSquaredError)\n",
    "print(\"r2: %f\" % trainingSummary.r2)"
   ]
  },
  {
   "cell_type": "code",
   "execution_count": 17,
   "id": "b69de8a8",
   "metadata": {},
   "outputs": [
    {
     "name": "stderr",
     "output_type": "stream",
     "text": [
      "                                                                                \r"
     ]
    },
    {
     "data": {
      "text/plain": [
       "0                15406\n",
       "1    207063.3730364793\n",
       "2    115242.0680417819\n",
       "3              14999.0\n",
       "4             500001.0\n",
       "Name: median_house_value, dtype: object"
      ]
     },
     "execution_count": 17,
     "metadata": {},
     "output_type": "execute_result"
    }
   ],
   "source": [
    "# Сравним с RMSE Данного столбца\n",
    "train.describe().toPandas().median_house_value"
   ]
  },
  {
   "cell_type": "code",
   "execution_count": 18,
   "id": "3bf382c9",
   "metadata": {},
   "outputs": [
    {
     "name": "stderr",
     "output_type": "stream",
     "text": [
      "                                                                                \r"
     ]
    },
    {
     "name": "stdout",
     "output_type": "stream",
     "text": [
      "MAE test: 50572.223496\n",
      "RMSE test: 67960.367858\n",
      "r2 test: 0.655838\n"
     ]
    }
   ],
   "source": [
    "# Test выборка все столбцы\n",
    "\n",
    "predictions = lr_model.transform(test)\n",
    "\n",
    "rmse = RegressionEvaluator(predictionCol='prediction', labelCol='median_house_value', metricName='rmse')\n",
    "mae = RegressionEvaluator(predictionCol='prediction', labelCol='median_house_value', metricName='mae')\n",
    "r2 = RegressionEvaluator(predictionCol='prediction', labelCol='median_house_value', metricName='r2')\n",
    "\n",
    "print(\"MAE test: %f\" % mae.evaluate(predictions))\n",
    "print(\"RMSE test: %f\" % rmse.evaluate(predictions))\n",
    "print(\"r2 test: %f\" % r2.evaluate(predictions))"
   ]
  },
  {
   "cell_type": "code",
   "execution_count": 19,
   "id": "fd442e1b",
   "metadata": {},
   "outputs": [
    {
     "name": "stdout",
     "output_type": "stream",
     "text": [
      "15406 5234\n"
     ]
    }
   ],
   "source": [
    "# Train численные переменные\n",
    "\n",
    "num_train = train.select(['numerical_features_scaled','median_house_value'])\n",
    "num_test = test.select(['numerical_features_scaled','median_house_value'])\n",
    "print(num_train.count(), num_test.count())\n",
    "\n",
    "lr_num = LinearRegression(featuresCol = 'numerical_features_scaled', labelCol='median_house_value', maxIter=10, regParam=0.3, elasticNetParam=0.8)\n",
    "lr_model_num = lr_num.fit(num_train)"
   ]
  },
  {
   "cell_type": "code",
   "execution_count": 20,
   "id": "17f06d34",
   "metadata": {},
   "outputs": [
    {
     "name": "stdout",
     "output_type": "stream",
     "text": [
      "+-------------------+\n",
      "|          residuals|\n",
      "+-------------------+\n",
      "| -93527.49017469259|\n",
      "| 12300.055955793709|\n",
      "|-6420.7048864858225|\n",
      "| -77667.26108106505|\n",
      "| -56569.01372766914|\n",
      "| -71562.66868724115|\n",
      "|-135428.58651847718|\n",
      "|-10884.265044343192|\n",
      "|-10740.894353624899|\n",
      "| -52545.20585463615|\n",
      "|-11780.936154561117|\n",
      "| -19968.91819633171|\n",
      "| -80053.32844285434|\n",
      "|  -80513.3973504263|\n",
      "| -48633.28664713679|\n",
      "|    11797.291323293|\n",
      "|-53350.884250159375|\n",
      "| -58571.27106578136|\n",
      "| -54332.76444053603|\n",
      "| -68406.46236593882|\n",
      "+-------------------+\n",
      "only showing top 20 rows\n",
      "\n",
      "MAE: 51366.825141\n",
      "RMSE: 70620.580533\n",
      "r2: 0.624449\n"
     ]
    }
   ],
   "source": [
    "# Train Выборка все столбцы\n",
    "trainingSummarynum = lr_model_num.summary\n",
    "\n",
    "trainingSummarynum.residuals.show()\n",
    "print(\"MAE: %f\" % trainingSummarynum.meanAbsoluteError)\n",
    "print(\"RMSE: %f\" % trainingSummarynum.rootMeanSquaredError)\n",
    "print(\"r2: %f\" % trainingSummarynum.r2)"
   ]
  },
  {
   "cell_type": "code",
   "execution_count": 21,
   "id": "32909d04",
   "metadata": {},
   "outputs": [
    {
     "name": "stdout",
     "output_type": "stream",
     "text": [
      "MAE test only num: 54100.294031\n",
      "RMSE test only num: 70135.659195\n",
      "r2 test only num: 0.633453\n"
     ]
    }
   ],
   "source": [
    "# Test выборка все столбцы\n",
    "\n",
    "predictions = lr_model_num.transform(num_test)\n",
    "\n",
    "rmse_t = RegressionEvaluator(predictionCol='prediction', labelCol='median_house_value', metricName='rmse')\n",
    "mae_t = RegressionEvaluator(predictionCol='prediction', labelCol='median_house_value', metricName='mae')\n",
    "r2_t = RegressionEvaluator(predictionCol='prediction', labelCol='median_house_value', metricName='r2')\n",
    "\n",
    "print(\"MAE test only num: %f\" % mae_t.evaluate(predictions))\n",
    "print(\"RMSE test only num: %f\" % rmse_t.evaluate(predictions))\n",
    "print(\"r2 test only num: %f\" % r2_t.evaluate(predictions))"
   ]
  },
  {
   "cell_type": "code",
   "execution_count": 22,
   "id": "3f5f8686",
   "metadata": {},
   "outputs": [],
   "source": [
    "# Остановим сессию Spark\n",
    "\n",
    "spark.stop()"
   ]
  },
  {
   "cell_type": "markdown",
   "id": "fa138415",
   "metadata": {},
   "source": [
    "### Вывод"
   ]
  },
  {
   "cell_type": "markdown",
   "id": "1aa52352",
   "metadata": {},
   "source": [
    "В результате обучения модели линейной регресси на всех данный были получены следующие результаты:\n",
    "1. На train выборке:\n",
    "    - RMSE = 69501.603498\n",
    "    - MAE = 50292.996357\n",
    "    - r2: 0.637912\n",
    "2. На test выборке:\n",
    "    - MAE test: 49801.420094\n",
    "    - RMSE test: 68395.176993\n",
    "    - r2 test: 0.647666\n",
    "    \n",
    "В результате обучения модели линейной регресси только на числовых значениях были получены следующие результаты:\n",
    "1. На train выборке:\n",
    "    - MAE: 51096.328830\n",
    "    - RMSE: 70255.279685\n",
    "    - r2: 0.630017\n",
    "2. На test выборке:\n",
    "    - MAE test only num: 51120.557433\n",
    "    - RMSE test only num: 69597.442066\n",
    "    - r2 test only num: 0.635170\n",
    "    \n",
    "Данную модель нельзя назвать сильной или даже хорошей, R2 = в среднем 64%, говорит нам о том, что лишь 64% данных возможно объяснить при помощи нашей модели, а средний разброс в 70000, с точки зрения всего значения является также довольно большой величиной."
   ]
  }
 ],
 "metadata": {
  "ExecuteTimeLog": [
   {
    "duration": 448,
    "start_time": "2022-10-20T19:12:14.744Z"
   },
   {
    "duration": 19527,
    "start_time": "2022-10-20T19:12:17.176Z"
   },
   {
    "duration": 8818,
    "start_time": "2022-10-20T19:14:10.407Z"
   },
   {
    "duration": 6262,
    "start_time": "2022-10-20T19:16:32.607Z"
   },
   {
    "duration": 2628,
    "start_time": "2022-10-20T19:16:59.919Z"
   },
   {
    "duration": 2280,
    "start_time": "2022-10-20T19:17:15.845Z"
   },
   {
    "duration": 2197,
    "start_time": "2022-10-20T19:18:55.742Z"
   },
   {
    "duration": 68,
    "start_time": "2022-10-20T19:19:02.572Z"
   },
   {
    "duration": 1657,
    "start_time": "2022-10-20T19:19:08.494Z"
   },
   {
    "duration": 113,
    "start_time": "2022-10-20T19:19:34.885Z"
   },
   {
    "duration": 2795,
    "start_time": "2022-10-20T19:19:44.839Z"
   },
   {
    "duration": 1307,
    "start_time": "2022-10-20T19:19:56.338Z"
   },
   {
    "duration": 1704,
    "start_time": "2022-10-20T19:20:05.936Z"
   },
   {
    "duration": 1269,
    "start_time": "2022-10-20T19:20:27.082Z"
   },
   {
    "duration": 88,
    "start_time": "2022-10-20T19:21:40.784Z"
   },
   {
    "duration": 1435,
    "start_time": "2022-10-20T19:21:45.006Z"
   },
   {
    "duration": 1332,
    "start_time": "2022-10-20T19:21:50.001Z"
   },
   {
    "duration": 1312,
    "start_time": "2022-10-20T19:22:06.013Z"
   },
   {
    "duration": 1898,
    "start_time": "2022-10-20T19:22:13.339Z"
   },
   {
    "duration": 1976,
    "start_time": "2022-10-20T19:22:28.949Z"
   },
   {
    "duration": 491,
    "start_time": "2022-10-20T19:22:35.136Z"
   },
   {
    "duration": 1421,
    "start_time": "2022-10-20T19:22:44.937Z"
   },
   {
    "duration": 498,
    "start_time": "2022-10-20T19:27:42.277Z"
   },
   {
    "duration": 1072,
    "start_time": "2022-10-20T19:27:57.385Z"
   },
   {
    "duration": 430,
    "start_time": "2022-10-20T19:28:34.409Z"
   },
   {
    "duration": 1915,
    "start_time": "2022-10-20T19:28:38.350Z"
   },
   {
    "duration": 1236,
    "start_time": "2022-10-20T19:29:12.136Z"
   },
   {
    "duration": 630,
    "start_time": "2022-10-20T19:29:55.860Z"
   },
   {
    "duration": 603,
    "start_time": "2022-10-20T19:30:12.295Z"
   },
   {
    "duration": 646,
    "start_time": "2022-10-20T19:30:21.380Z"
   },
   {
    "duration": 767,
    "start_time": "2022-10-20T19:30:30.385Z"
   },
   {
    "duration": 9,
    "start_time": "2022-10-20T19:35:59.760Z"
   },
   {
    "duration": 4,
    "start_time": "2022-10-20T19:42:17.519Z"
   },
   {
    "duration": 9,
    "start_time": "2022-10-20T19:42:37.874Z"
   },
   {
    "duration": 14,
    "start_time": "2022-10-20T19:42:47.042Z"
   },
   {
    "duration": 553,
    "start_time": "2022-10-20T19:54:02.795Z"
   },
   {
    "duration": 537,
    "start_time": "2022-10-20T19:54:09.937Z"
   },
   {
    "duration": 541,
    "start_time": "2022-10-20T19:54:25.888Z"
   },
   {
    "duration": 477,
    "start_time": "2022-10-20T19:54:38.468Z"
   },
   {
    "duration": 608,
    "start_time": "2022-10-20T19:54:51.877Z"
   },
   {
    "duration": 72,
    "start_time": "2022-10-20T20:14:39.178Z"
   },
   {
    "duration": 9,
    "start_time": "2022-10-20T20:15:04.513Z"
   },
   {
    "duration": 9,
    "start_time": "2022-10-20T20:15:23.318Z"
   },
   {
    "duration": 10,
    "start_time": "2022-10-20T20:15:53.054Z"
   },
   {
    "duration": 73,
    "start_time": "2022-10-20T20:17:16.603Z"
   },
   {
    "duration": 8,
    "start_time": "2022-10-20T20:17:23.315Z"
   },
   {
    "duration": 46,
    "start_time": "2022-10-20T20:17:49.065Z"
   },
   {
    "duration": 49,
    "start_time": "2022-10-20T20:17:59.322Z"
   },
   {
    "duration": 57,
    "start_time": "2022-10-20T20:18:52.985Z"
   },
   {
    "duration": 50,
    "start_time": "2022-10-20T20:18:57.890Z"
   },
   {
    "duration": 10,
    "start_time": "2022-10-20T20:19:19.064Z"
   },
   {
    "duration": 11,
    "start_time": "2022-10-20T20:19:41.805Z"
   },
   {
    "duration": 9,
    "start_time": "2022-10-20T20:21:38.425Z"
   },
   {
    "duration": 7,
    "start_time": "2022-10-20T20:21:43.644Z"
   },
   {
    "duration": 9,
    "start_time": "2022-10-20T20:22:20.880Z"
   },
   {
    "duration": 76,
    "start_time": "2022-10-20T20:22:31.095Z"
   },
   {
    "duration": 69,
    "start_time": "2022-10-20T20:22:35.860Z"
   },
   {
    "duration": 7,
    "start_time": "2022-10-20T20:22:43.197Z"
   },
   {
    "duration": 2,
    "start_time": "2022-10-20T20:23:50.198Z"
   },
   {
    "duration": 5,
    "start_time": "2022-10-20T20:23:56.296Z"
   },
   {
    "duration": 13,
    "start_time": "2022-10-20T20:23:59.612Z"
   },
   {
    "duration": 5,
    "start_time": "2022-10-20T20:24:14.970Z"
   },
   {
    "duration": 82,
    "start_time": "2022-10-20T20:25:08.291Z"
   },
   {
    "duration": 9,
    "start_time": "2022-10-20T20:25:11.495Z"
   },
   {
    "duration": 10,
    "start_time": "2022-10-20T20:25:15.890Z"
   },
   {
    "duration": 10,
    "start_time": "2022-10-20T20:26:29.741Z"
   },
   {
    "duration": 8,
    "start_time": "2022-10-20T20:28:05.405Z"
   },
   {
    "duration": 3,
    "start_time": "2022-10-20T20:28:35.436Z"
   },
   {
    "duration": 3,
    "start_time": "2022-10-20T20:28:44.297Z"
   },
   {
    "duration": 5,
    "start_time": "2022-10-20T20:28:50.084Z"
   },
   {
    "duration": 4,
    "start_time": "2022-10-20T20:29:28.874Z"
   },
   {
    "duration": 4,
    "start_time": "2022-10-20T20:29:57.795Z"
   },
   {
    "duration": 5,
    "start_time": "2022-10-20T20:32:12.957Z"
   },
   {
    "duration": 8,
    "start_time": "2022-10-20T20:33:56.547Z"
   },
   {
    "duration": 8,
    "start_time": "2022-10-20T20:34:18.752Z"
   },
   {
    "duration": 123,
    "start_time": "2022-10-20T20:34:23.741Z"
   },
   {
    "duration": 10,
    "start_time": "2022-10-20T20:34:34.001Z"
   },
   {
    "duration": 83,
    "start_time": "2022-10-20T20:34:40.466Z"
   },
   {
    "duration": 11,
    "start_time": "2022-10-20T20:34:47.278Z"
   },
   {
    "duration": 84,
    "start_time": "2022-10-20T20:34:49.942Z"
   },
   {
    "duration": 10,
    "start_time": "2022-10-20T20:36:10.546Z"
   },
   {
    "duration": 4,
    "start_time": "2022-10-20T20:36:37.095Z"
   },
   {
    "duration": 8,
    "start_time": "2022-10-20T20:36:39.112Z"
   },
   {
    "duration": 13,
    "start_time": "2022-10-20T20:36:46.836Z"
   },
   {
    "duration": 9,
    "start_time": "2022-10-20T20:36:55.785Z"
   },
   {
    "duration": 11,
    "start_time": "2022-10-20T20:38:00.392Z"
   },
   {
    "duration": 9,
    "start_time": "2022-10-20T20:38:32.164Z"
   },
   {
    "duration": 8,
    "start_time": "2022-10-20T20:38:36.276Z"
   },
   {
    "duration": 8,
    "start_time": "2022-10-20T20:38:45.393Z"
   },
   {
    "duration": 103,
    "start_time": "2022-10-20T20:38:57.944Z"
   },
   {
    "duration": 12,
    "start_time": "2022-10-20T20:39:08.196Z"
   },
   {
    "duration": 2346,
    "start_time": "2022-10-20T20:39:37.694Z"
   },
   {
    "duration": 15,
    "start_time": "2022-10-20T20:40:43.012Z"
   },
   {
    "duration": 2045,
    "start_time": "2022-10-20T20:40:59.161Z"
   },
   {
    "duration": 497,
    "start_time": "2022-10-20T20:42:16.493Z"
   },
   {
    "duration": 28070,
    "start_time": "2022-10-20T20:42:16.992Z"
   },
   {
    "duration": 4268,
    "start_time": "2022-10-20T20:42:45.064Z"
   },
   {
    "duration": 434,
    "start_time": "2022-10-20T20:42:49.334Z"
   },
   {
    "duration": 114,
    "start_time": "2022-10-20T20:42:49.769Z"
   },
   {
    "duration": 5170,
    "start_time": "2022-10-20T20:43:07.343Z"
   },
   {
    "duration": 7835,
    "start_time": "2022-10-20T20:45:29.901Z"
   },
   {
    "duration": 7536,
    "start_time": "2022-10-20T20:47:25.060Z"
   },
   {
    "duration": 10,
    "start_time": "2022-10-20T20:57:37.658Z"
   },
   {
    "duration": 7,
    "start_time": "2022-10-20T20:57:46.108Z"
   },
   {
    "duration": 9,
    "start_time": "2022-10-20T20:57:51.859Z"
   },
   {
    "duration": 82,
    "start_time": "2022-10-20T20:59:32.076Z"
   },
   {
    "duration": 8,
    "start_time": "2022-10-20T20:59:35.388Z"
   },
   {
    "duration": 8,
    "start_time": "2022-10-20T20:59:43.882Z"
   },
   {
    "duration": 9,
    "start_time": "2022-10-20T20:59:50.240Z"
   },
   {
    "duration": 8,
    "start_time": "2022-10-20T21:00:02.456Z"
   },
   {
    "duration": 14,
    "start_time": "2022-10-20T21:00:10.063Z"
   },
   {
    "duration": 12,
    "start_time": "2022-10-20T21:46:41.973Z"
   },
   {
    "duration": 277,
    "start_time": "2022-10-20T21:47:21.235Z"
   },
   {
    "duration": 96,
    "start_time": "2022-10-20T21:47:26.205Z"
   },
   {
    "duration": 1584,
    "start_time": "2022-10-20T21:48:12.458Z"
   },
   {
    "duration": 170,
    "start_time": "2022-10-20T21:48:19.287Z"
   },
   {
    "duration": 797,
    "start_time": "2022-10-20T21:48:51.395Z"
   },
   {
    "duration": 28479,
    "start_time": "2022-10-20T21:48:52.195Z"
   },
   {
    "duration": 4326,
    "start_time": "2022-10-20T21:49:20.732Z"
   },
   {
    "duration": 394,
    "start_time": "2022-10-20T21:49:25.059Z"
   },
   {
    "duration": 9982,
    "start_time": "2022-10-20T21:49:25.470Z"
   },
   {
    "duration": 6825,
    "start_time": "2022-10-20T21:49:35.456Z"
   },
   {
    "duration": 1844,
    "start_time": "2022-10-20T21:49:42.283Z"
   },
   {
    "duration": 91,
    "start_time": "2022-10-20T21:52:00.103Z"
   },
   {
    "duration": 172,
    "start_time": "2022-10-20T21:52:06.898Z"
   },
   {
    "duration": 160,
    "start_time": "2022-10-20T21:52:11.502Z"
   },
   {
    "duration": 14,
    "start_time": "2022-10-20T21:52:22.050Z"
   },
   {
    "duration": 9,
    "start_time": "2022-10-20T21:52:30.702Z"
   },
   {
    "duration": 176,
    "start_time": "2022-10-20T21:52:59.965Z"
   },
   {
    "duration": 150,
    "start_time": "2022-10-20T21:53:09.608Z"
   },
   {
    "duration": 725,
    "start_time": "2022-10-20T21:53:18.848Z"
   },
   {
    "duration": 28850,
    "start_time": "2022-10-20T21:53:19.575Z"
   },
   {
    "duration": 4229,
    "start_time": "2022-10-20T21:53:48.427Z"
   },
   {
    "duration": 390,
    "start_time": "2022-10-20T21:53:52.657Z"
   },
   {
    "duration": 9754,
    "start_time": "2022-10-20T21:53:53.049Z"
   },
   {
    "duration": 6927,
    "start_time": "2022-10-20T21:54:02.805Z"
   },
   {
    "duration": 1811,
    "start_time": "2022-10-20T21:54:09.733Z"
   },
   {
    "duration": 3,
    "start_time": "2022-10-20T21:57:25.866Z"
   },
   {
    "duration": 89,
    "start_time": "2022-10-20T21:57:29.971Z"
   },
   {
    "duration": 5,
    "start_time": "2022-10-20T21:58:05.606Z"
   },
   {
    "duration": 717,
    "start_time": "2022-10-20T21:58:08.751Z"
   },
   {
    "duration": 9,
    "start_time": "2022-10-20T21:59:59.568Z"
   },
   {
    "duration": 27,
    "start_time": "2022-10-20T22:00:06.489Z"
   },
   {
    "duration": 88,
    "start_time": "2022-10-20T22:01:06.215Z"
   },
   {
    "duration": 10,
    "start_time": "2022-10-20T22:01:13.411Z"
   },
   {
    "duration": 93,
    "start_time": "2022-10-20T22:01:20.880Z"
   },
   {
    "duration": 4,
    "start_time": "2022-10-20T22:01:31.691Z"
   },
   {
    "duration": 9,
    "start_time": "2022-10-20T22:01:33.947Z"
   },
   {
    "duration": 9,
    "start_time": "2022-10-20T22:02:00.112Z"
   },
   {
    "duration": 44,
    "start_time": "2022-10-20T22:03:14.939Z"
   },
   {
    "duration": 75,
    "start_time": "2022-10-21T12:09:34.959Z"
   },
   {
    "duration": 740,
    "start_time": "2022-10-21T12:09:45.469Z"
   },
   {
    "duration": 28609,
    "start_time": "2022-10-21T12:09:46.211Z"
   },
   {
    "duration": 4509,
    "start_time": "2022-10-21T12:10:14.823Z"
   },
   {
    "duration": 399,
    "start_time": "2022-10-21T12:10:19.386Z"
   },
   {
    "duration": 10033,
    "start_time": "2022-10-21T12:10:19.789Z"
   },
   {
    "duration": 7270,
    "start_time": "2022-10-21T12:10:29.825Z"
   },
   {
    "duration": 2193,
    "start_time": "2022-10-21T12:10:37.096Z"
   },
   {
    "duration": 695,
    "start_time": "2022-10-21T12:10:39.291Z"
   },
   {
    "duration": 116,
    "start_time": "2022-10-21T12:10:39.989Z"
   },
   {
    "duration": 317,
    "start_time": "2022-10-21T12:10:40.107Z"
   },
   {
    "duration": 136,
    "start_time": "2022-10-21T12:13:13.358Z"
   },
   {
    "duration": 158,
    "start_time": "2022-10-21T12:13:22.239Z"
   },
   {
    "duration": 1212,
    "start_time": "2022-10-21T12:13:32.079Z"
   },
   {
    "duration": 14,
    "start_time": "2022-10-21T12:14:09.051Z"
   },
   {
    "duration": 9,
    "start_time": "2022-10-21T12:15:03.101Z"
   },
   {
    "duration": 413,
    "start_time": "2022-10-21T12:15:08.278Z"
   },
   {
    "duration": 3043,
    "start_time": "2022-10-21T12:16:39.289Z"
   },
   {
    "duration": 0,
    "start_time": "2022-10-21T12:19:11.433Z"
   },
   {
    "duration": 0,
    "start_time": "2022-10-21T12:19:11.435Z"
   },
   {
    "duration": 9,
    "start_time": "2022-10-21T12:19:14.406Z"
   },
   {
    "duration": 5,
    "start_time": "2022-10-21T12:19:23.077Z"
   },
   {
    "duration": 235197,
    "start_time": "2022-10-21T12:19:25.922Z"
   },
   {
    "duration": 83110,
    "start_time": "2022-10-21T12:23:39.348Z"
   },
   {
    "duration": 740,
    "start_time": "2022-10-21T12:25:16.503Z"
   },
   {
    "duration": 26370,
    "start_time": "2022-10-21T12:25:17.245Z"
   },
   {
    "duration": 4186,
    "start_time": "2022-10-21T12:25:43.617Z"
   },
   {
    "duration": 481,
    "start_time": "2022-10-21T12:25:47.804Z"
   },
   {
    "duration": 9628,
    "start_time": "2022-10-21T12:25:48.289Z"
   },
   {
    "duration": 7577,
    "start_time": "2022-10-21T12:25:57.918Z"
   },
   {
    "duration": 2116,
    "start_time": "2022-10-21T12:26:05.497Z"
   },
   {
    "duration": 800,
    "start_time": "2022-10-21T12:26:07.615Z"
   },
   {
    "duration": 103,
    "start_time": "2022-10-21T12:26:08.418Z"
   },
   {
    "duration": 1496,
    "start_time": "2022-10-21T12:26:08.523Z"
   },
   {
    "duration": 76,
    "start_time": "2022-10-21T12:26:10.020Z"
   },
   {
    "duration": 501,
    "start_time": "2022-10-21T12:26:10.097Z"
   },
   {
    "duration": 3396,
    "start_time": "2022-10-21T12:26:10.599Z"
   },
   {
    "duration": 4281,
    "start_time": "2022-10-21T12:26:13.997Z"
   },
   {
    "duration": 1066,
    "start_time": "2022-10-21T12:38:37.455Z"
   },
   {
    "duration": 627,
    "start_time": "2022-10-21T12:39:25.080Z"
   },
   {
    "duration": 561,
    "start_time": "2022-10-21T12:39:55.843Z"
   },
   {
    "duration": 597,
    "start_time": "2022-10-21T12:40:47.821Z"
   },
   {
    "duration": 442,
    "start_time": "2022-10-21T12:41:23.182Z"
   },
   {
    "duration": 51,
    "start_time": "2022-10-22T09:34:23.300Z"
   },
   {
    "duration": 767,
    "start_time": "2022-10-22T09:34:33.304Z"
   },
   {
    "duration": 28878,
    "start_time": "2022-10-22T09:34:34.073Z"
   },
   {
    "duration": 3425,
    "start_time": "2022-10-22T09:35:03.010Z"
   },
   {
    "duration": 372,
    "start_time": "2022-10-22T09:35:06.437Z"
   },
   {
    "duration": 8799,
    "start_time": "2022-10-22T09:35:06.811Z"
   },
   {
    "duration": 6219,
    "start_time": "2022-10-22T09:35:15.612Z"
   },
   {
    "duration": 1430,
    "start_time": "2022-10-22T09:35:21.833Z"
   },
   {
    "duration": 544,
    "start_time": "2022-10-22T09:35:23.309Z"
   },
   {
    "duration": 155,
    "start_time": "2022-10-22T09:35:23.855Z"
   },
   {
    "duration": 1197,
    "start_time": "2022-10-22T09:35:24.012Z"
   },
   {
    "duration": 9,
    "start_time": "2022-10-22T09:35:25.211Z"
   },
   {
    "duration": 343,
    "start_time": "2022-10-22T09:35:25.221Z"
   },
   {
    "duration": 2817,
    "start_time": "2022-10-22T09:35:25.610Z"
   },
   {
    "duration": 4926,
    "start_time": "2022-10-22T09:35:28.429Z"
   },
   {
    "duration": 877,
    "start_time": "2022-10-22T09:35:33.357Z"
   },
   {
    "duration": 1687,
    "start_time": "2022-10-22T09:35:34.235Z"
   },
   {
    "duration": 48,
    "start_time": "2022-10-22T09:40:51.558Z"
   },
   {
    "duration": 1621,
    "start_time": "2022-10-22T09:41:33.188Z"
   },
   {
    "duration": 1258,
    "start_time": "2022-10-22T09:41:43.383Z"
   },
   {
    "duration": 12,
    "start_time": "2022-10-22T09:41:57.124Z"
   },
   {
    "duration": 1273,
    "start_time": "2022-10-22T09:42:10.448Z"
   },
   {
    "duration": 1090,
    "start_time": "2022-10-22T09:42:15.742Z"
   },
   {
    "duration": 1118,
    "start_time": "2022-10-22T09:42:28.993Z"
   },
   {
    "duration": 1685,
    "start_time": "2022-10-22T09:42:48.452Z"
   },
   {
    "duration": 876,
    "start_time": "2022-10-22T09:43:08.978Z"
   },
   {
    "duration": 713,
    "start_time": "2022-10-22T09:43:25.949Z"
   },
   {
    "duration": 25,
    "start_time": "2022-10-22T10:15:18.622Z"
   },
   {
    "duration": 4,
    "start_time": "2022-10-22T10:16:18.741Z"
   },
   {
    "duration": 49,
    "start_time": "2022-10-22T10:16:23.074Z"
   },
   {
    "duration": 1880,
    "start_time": "2022-10-22T10:17:15.768Z"
   },
   {
    "duration": 8,
    "start_time": "2022-10-22T10:20:38.512Z"
   },
   {
    "duration": 13,
    "start_time": "2022-10-22T10:20:43.939Z"
   },
   {
    "duration": 21,
    "start_time": "2022-10-22T10:24:11.333Z"
   },
   {
    "duration": 2575,
    "start_time": "2022-10-22T10:24:26.140Z"
   },
   {
    "duration": 429,
    "start_time": "2022-10-22T10:24:30.085Z"
   },
   {
    "duration": 1152,
    "start_time": "2022-10-22T10:25:31.294Z"
   },
   {
    "duration": 900,
    "start_time": "2022-10-22T10:25:48.122Z"
   },
   {
    "duration": 728,
    "start_time": "2022-10-22T10:27:18.922Z"
   },
   {
    "duration": 25673,
    "start_time": "2022-10-22T10:27:19.652Z"
   },
   {
    "duration": 3328,
    "start_time": "2022-10-22T10:27:45.327Z"
   },
   {
    "duration": 358,
    "start_time": "2022-10-22T10:27:48.657Z"
   },
   {
    "duration": 8931,
    "start_time": "2022-10-22T10:27:49.017Z"
   },
   {
    "duration": 6961,
    "start_time": "2022-10-22T10:27:57.949Z"
   },
   {
    "duration": 1508,
    "start_time": "2022-10-22T10:28:04.912Z"
   },
   {
    "duration": 534,
    "start_time": "2022-10-22T10:28:06.421Z"
   },
   {
    "duration": 106,
    "start_time": "2022-10-22T10:28:07.009Z"
   },
   {
    "duration": 1322,
    "start_time": "2022-10-22T10:28:07.117Z"
   },
   {
    "duration": 68,
    "start_time": "2022-10-22T10:28:08.441Z"
   },
   {
    "duration": 337,
    "start_time": "2022-10-22T10:28:08.511Z"
   },
   {
    "duration": 3296,
    "start_time": "2022-10-22T10:28:08.850Z"
   },
   {
    "duration": 4640,
    "start_time": "2022-10-22T10:28:12.208Z"
   },
   {
    "duration": 929,
    "start_time": "2022-10-22T10:28:16.850Z"
   },
   {
    "duration": 2357,
    "start_time": "2022-10-22T10:28:17.780Z"
   },
   {
    "duration": 2306,
    "start_time": "2022-10-22T10:28:20.139Z"
   },
   {
    "duration": 2809,
    "start_time": "2022-10-22T10:28:22.446Z"
   },
   {
    "duration": 479,
    "start_time": "2022-10-22T10:28:25.257Z"
   },
   {
    "duration": 1185,
    "start_time": "2022-10-22T10:28:25.738Z"
   },
   {
    "duration": 730,
    "start_time": "2022-10-24T09:16:52.551Z"
   },
   {
    "duration": 31178,
    "start_time": "2022-10-24T09:16:53.284Z"
   },
   {
    "duration": 390,
    "start_time": "2022-10-24T09:17:24.464Z"
   },
   {
    "duration": 96,
    "start_time": "2022-10-24T09:18:51.787Z"
   },
   {
    "duration": 44,
    "start_time": "2022-10-24T13:38:52.867Z"
   },
   {
    "duration": 708,
    "start_time": "2022-10-24T13:38:54.874Z"
   },
   {
    "duration": 23765,
    "start_time": "2022-10-24T13:38:56.944Z"
   },
   {
    "duration": 73,
    "start_time": "2022-10-24T13:40:22.548Z"
   },
   {
    "duration": 95,
    "start_time": "2022-10-24T13:40:30.073Z"
   },
   {
    "duration": 3219,
    "start_time": "2022-10-24T13:45:42.761Z"
   },
   {
    "duration": 280,
    "start_time": "2022-10-24T13:45:48.598Z"
   },
   {
    "duration": 7653,
    "start_time": "2022-10-24T13:45:52.544Z"
   },
   {
    "duration": 39,
    "start_time": "2022-10-24T13:49:06.405Z"
   },
   {
    "duration": 16,
    "start_time": "2022-10-24T13:49:20.536Z"
   },
   {
    "duration": 12,
    "start_time": "2022-10-24T13:49:23.300Z"
   },
   {
    "duration": 8,
    "start_time": "2022-10-24T13:49:32.439Z"
   },
   {
    "duration": 9,
    "start_time": "2022-10-24T13:51:07.758Z"
   },
   {
    "duration": 7,
    "start_time": "2022-10-24T13:51:16.676Z"
   },
   {
    "duration": 9,
    "start_time": "2022-10-24T13:51:22.935Z"
   },
   {
    "duration": 32,
    "start_time": "2022-10-24T13:51:43.345Z"
   },
   {
    "duration": 24,
    "start_time": "2022-10-24T13:51:53.617Z"
   },
   {
    "duration": 8,
    "start_time": "2022-10-24T13:51:57.288Z"
   },
   {
    "duration": 12,
    "start_time": "2022-10-24T13:52:27.444Z"
   },
   {
    "duration": 4,
    "start_time": "2022-10-24T13:56:30.369Z"
   },
   {
    "duration": 22,
    "start_time": "2022-10-24T13:56:32.798Z"
   },
   {
    "duration": 14,
    "start_time": "2022-10-24T13:56:35.250Z"
   },
   {
    "duration": 9,
    "start_time": "2022-10-24T13:56:41.795Z"
   },
   {
    "duration": 9,
    "start_time": "2022-10-24T13:57:01.072Z"
   },
   {
    "duration": 4,
    "start_time": "2022-10-24T13:57:06.557Z"
   },
   {
    "duration": 7,
    "start_time": "2022-10-24T14:02:34.885Z"
   },
   {
    "duration": 5,
    "start_time": "2022-10-24T14:02:55.866Z"
   },
   {
    "duration": 6,
    "start_time": "2022-10-24T14:03:15.988Z"
   },
   {
    "duration": 5580,
    "start_time": "2022-10-24T14:04:14.959Z"
   },
   {
    "duration": 1551,
    "start_time": "2022-10-24T14:04:37.092Z"
   },
   {
    "duration": 465,
    "start_time": "2022-10-24T14:04:42.926Z"
   },
   {
    "duration": 35,
    "start_time": "2022-10-24T14:05:09.627Z"
   },
   {
    "duration": 2604,
    "start_time": "2022-10-24T14:05:56.784Z"
   },
   {
    "duration": 1088,
    "start_time": "2022-10-24T14:11:44.597Z"
   },
   {
    "duration": 1239,
    "start_time": "2022-10-24T14:12:21.866Z"
   },
   {
    "duration": 8,
    "start_time": "2022-10-24T14:16:23.307Z"
   },
   {
    "duration": 9,
    "start_time": "2022-10-24T14:19:25.090Z"
   },
   {
    "duration": 660,
    "start_time": "2022-10-24T14:19:54.569Z"
   },
   {
    "duration": 4063,
    "start_time": "2022-10-24T14:20:02.616Z"
   },
   {
    "duration": 511,
    "start_time": "2022-10-24T14:20:39.638Z"
   },
   {
    "duration": 1490,
    "start_time": "2022-10-24T14:21:41.318Z"
   },
   {
    "duration": 111,
    "start_time": "2022-10-24T14:21:50.429Z"
   },
   {
    "duration": 126,
    "start_time": "2022-10-24T14:24:05.256Z"
   },
   {
    "duration": 12,
    "start_time": "2022-10-24T14:34:57.584Z"
   },
   {
    "duration": 12,
    "start_time": "2022-10-24T14:35:08.268Z"
   },
   {
    "duration": 12,
    "start_time": "2022-10-24T14:35:16.980Z"
   },
   {
    "duration": 6196,
    "start_time": "2022-10-24T14:35:22.911Z"
   },
   {
    "duration": 5682,
    "start_time": "2022-10-24T14:35:33.139Z"
   },
   {
    "duration": 599,
    "start_time": "2022-10-24T14:38:19.015Z"
   },
   {
    "duration": 25599,
    "start_time": "2022-10-24T14:38:19.616Z"
   },
   {
    "duration": 3931,
    "start_time": "2022-10-24T14:38:45.282Z"
   },
   {
    "duration": 387,
    "start_time": "2022-10-24T14:38:49.215Z"
   },
   {
    "duration": 9595,
    "start_time": "2022-10-24T14:38:49.605Z"
   },
   {
    "duration": 6429,
    "start_time": "2022-10-24T14:38:59.202Z"
   },
   {
    "duration": 1616,
    "start_time": "2022-10-24T14:39:05.633Z"
   },
   {
    "duration": 649,
    "start_time": "2022-10-24T14:39:07.252Z"
   },
   {
    "duration": 112,
    "start_time": "2022-10-24T14:39:07.902Z"
   },
   {
    "duration": 2763,
    "start_time": "2022-10-24T14:39:08.016Z"
   },
   {
    "duration": 2506,
    "start_time": "2022-10-24T14:39:10.781Z"
   },
   {
    "duration": 9,
    "start_time": "2022-10-24T14:39:13.289Z"
   },
   {
    "duration": 1804,
    "start_time": "2022-10-24T14:39:13.301Z"
   },
   {
    "duration": 4299,
    "start_time": "2022-10-24T14:39:15.108Z"
   },
   {
    "duration": 699,
    "start_time": "2022-10-24T14:39:19.409Z"
   },
   {
    "duration": 1693,
    "start_time": "2022-10-24T14:39:20.110Z"
   },
   {
    "duration": 2007,
    "start_time": "2022-10-24T14:39:21.806Z"
   },
   {
    "duration": 181,
    "start_time": "2022-10-24T14:39:23.815Z"
   },
   {
    "duration": 0,
    "start_time": "2022-10-24T14:39:23.998Z"
   },
   {
    "duration": 0,
    "start_time": "2022-10-24T14:39:24.000Z"
   },
   {
    "duration": 49,
    "start_time": "2022-10-24T15:59:51.844Z"
   },
   {
    "duration": 699,
    "start_time": "2022-10-24T15:59:57.579Z"
   },
   {
    "duration": 25374,
    "start_time": "2022-10-24T15:59:58.280Z"
   },
   {
    "duration": 3580,
    "start_time": "2022-10-24T16:00:23.655Z"
   },
   {
    "duration": 312,
    "start_time": "2022-10-24T16:00:27.237Z"
   },
   {
    "duration": 9320,
    "start_time": "2022-10-24T16:00:27.551Z"
   },
   {
    "duration": 5852,
    "start_time": "2022-10-24T16:00:36.872Z"
   },
   {
    "duration": 1466,
    "start_time": "2022-10-24T16:00:42.727Z"
   },
   {
    "duration": 653,
    "start_time": "2022-10-24T16:00:44.194Z"
   },
   {
    "duration": 102,
    "start_time": "2022-10-24T16:00:44.849Z"
   },
   {
    "duration": 2402,
    "start_time": "2022-10-24T16:00:44.954Z"
   },
   {
    "duration": 2438,
    "start_time": "2022-10-24T16:00:47.420Z"
   },
   {
    "duration": 70,
    "start_time": "2022-10-24T16:00:49.860Z"
   },
   {
    "duration": 2224,
    "start_time": "2022-10-24T16:00:49.932Z"
   },
   {
    "duration": 4663,
    "start_time": "2022-10-24T16:00:52.158Z"
   },
   {
    "duration": 812,
    "start_time": "2022-10-24T16:00:56.823Z"
   },
   {
    "duration": 2018,
    "start_time": "2022-10-24T16:00:57.637Z"
   },
   {
    "duration": 2594,
    "start_time": "2022-10-24T16:00:59.658Z"
   },
   {
    "duration": 2869,
    "start_time": "2022-10-24T16:01:02.254Z"
   },
   {
    "duration": 583,
    "start_time": "2022-10-24T16:01:07.405Z"
   },
   {
    "duration": 1546,
    "start_time": "2022-10-24T16:01:14.493Z"
   },
   {
    "duration": 323,
    "start_time": "2022-10-24T16:01:44.695Z"
   }
  ],
  "colab": {
   "name": "PySparkSprint.ipynb",
   "provenance": []
  },
  "kernelspec": {
   "display_name": "Python 3 (ipykernel)",
   "language": "python",
   "name": "python3"
  },
  "language_info": {
   "codemirror_mode": {
    "name": "ipython",
    "version": 3
   },
   "file_extension": ".py",
   "mimetype": "text/x-python",
   "name": "python",
   "nbconvert_exporter": "python",
   "pygments_lexer": "ipython3",
   "version": "3.10.9"
  },
  "toc": {
   "base_numbering": 1,
   "nav_menu": {},
   "number_sections": true,
   "sideBar": true,
   "skip_h1_title": true,
   "title_cell": "Table of Contents",
   "title_sidebar": "Contents",
   "toc_cell": false,
   "toc_position": {},
   "toc_section_display": true,
   "toc_window_display": false
  }
 },
 "nbformat": 4,
 "nbformat_minor": 5
}
